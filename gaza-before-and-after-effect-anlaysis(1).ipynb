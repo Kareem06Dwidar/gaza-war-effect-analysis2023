{
 "cells": [
  {
   "cell_type": "code",
   "execution_count": 4,
   "metadata": {
    "_cell_guid": "b1076dfc-b9ad-4769-8c92-a6c4dae69d19",
    "_kg_hide-input": false,
    "_kg_hide-output": true,
    "_uuid": "8f2839f25d086af736a60e9eeb907d3b93b6e0e5",
    "execution": {
     "iopub.execute_input": "2025-05-12T10:09:42.249480Z",
     "iopub.status.busy": "2025-05-12T10:09:42.248489Z",
     "iopub.status.idle": "2025-05-12T10:09:44.131411Z",
     "shell.execute_reply": "2025-05-12T10:09:44.130430Z",
     "shell.execute_reply.started": "2025-05-12T10:09:42.249418Z"
    },
    "trusted": true
   },
   "outputs": [],
   "source": [
    "import numpy as np \n",
    "import pandas as pd \n",
    "import os\n",
    "import json\n",
    "from datetime import datetime\n",
    "import matplotlib.pyplot as plt\n",
    "import seaborn as sns\n",
    "from PIL import Image\n",
    "import folium\n",
    "from folium import Rectangle\n",
    "from branca.colormap import linear\n",
    "from collections import defaultdict\n",
    "\n",
    "\n",
    "# ==============================\n",
    "# 1. Setup\n",
    "# ==============================\n",
    "\n",
    "# Path to satellite images\n",
    "base_path = '/kaggle/input/gaza-before-and-after-2/Gaza Before and After/images'\n",
    "# War start date\n",
    "war_start = datetime(2023, 10, 7)\n",
    "\n",
    "#The war started on 7 oct 2023 so I want to classify the images to pre,start,post the war \n",
    "#The images named like this 2023-01-01.png\n",
    "#I opened random images found that some images total black or has white spots so i will remove them\n",
    "#It's easier to dected light changes with grayscale images"
   ]
  },
  {
   "cell_type": "code",
   "execution_count": null,
   "metadata": {
    "execution": {
     "iopub.execute_input": "2025-05-12T10:09:49.407932Z",
     "iopub.status.busy": "2025-05-12T10:09:49.406837Z",
     "iopub.status.idle": "2025-05-12T10:09:49.414297Z",
     "shell.execute_reply": "2025-05-12T10:09:49.413153Z",
     "shell.execute_reply.started": "2025-05-12T10:09:49.407892Z"
    },
    "trusted": true
   },
   "outputs": [],
   "source": [
    "# ==============================\n",
    "# 2. Preprocessing\n",
    "# ==============================\n",
    "\n",
    "# Check if image is valid based on brightness (to remove black/white images)\n",
    "# Threshold 20 is chosen to exclude very dark images where meaningful content is likely missing\n",
    "def is_image_valid(image_path, threshold=20):\n",
    "    try:\n",
    "        img = Image.open(image_path).convert('L')\n",
    "        return np.array(img).mean() > threshold\n",
    "    except Exception as e:\n",
    "        print(f\"❌ Error loading image: {image_path} | {e}\")\n",
    "        return False\n",
    "\n",
    "\n",
    "# Extract section name from image path\n",
    "def get_section_name(path):\n",
    "    for part in path.split('/'):\n",
    "        if part.startswith('section_'):\n",
    "            return part\n",
    "    return None"
   ]
  },
  {
   "cell_type": "code",
   "execution_count": null,
   "metadata": {
    "execution": {
     "iopub.execute_input": "2025-05-12T10:09:49.407932Z",
     "iopub.status.busy": "2025-05-12T10:09:49.406837Z",
     "iopub.status.idle": "2025-05-12T10:09:49.414297Z",
     "shell.execute_reply": "2025-05-12T10:09:49.413153Z",
     "shell.execute_reply.started": "2025-05-12T10:09:49.407892Z"
    },
    "trusted": true
   },
   "outputs": [],
   "source": [
    "# ==============================\n",
    "# 3. Organize Valid Images by Section\n",
    "# ==============================\n",
    "section_images_dict = defaultdict(list)\n",
    "\n",
    "for dirpath, _, filenames in os.walk(base_path):\n",
    "    for file in filenames:\n",
    "        if file.endswith('.png'):\n",
    "            try:\n",
    "                date_str = file.replace('.png', '')\n",
    "                img_date = datetime.strptime(date_str, '%Y-%m-%d')\n",
    "                full_path = os.path.join(dirpath, file)\n",
    "\n",
    "                if is_image_valid(full_path):\n",
    "                    section = get_section_name(full_path)\n",
    "                    if section:\n",
    "                        section_images_dict[section].append((img_date, full_path))\n",
    "            except Exception as e:\n",
    "                print(f\"❌ Error processing {file} | {e}\")"
   ]
  },
  {
   "cell_type": "code",
   "execution_count": null,
   "metadata": {
    "execution": {
     "iopub.execute_input": "2025-05-12T10:15:09.568734Z",
     "iopub.status.busy": "2025-05-12T10:15:09.568336Z",
     "iopub.status.idle": "2025-05-12T10:15:09.577905Z",
     "shell.execute_reply": "2025-05-12T10:15:09.576806Z",
     "shell.execute_reply.started": "2025-05-12T10:15:09.568710Z"
    },
    "trusted": true
   },
   "outputs": [],
   "source": [
    "# ==============================\n",
    "# 4. Image Change Detection\n",
    "# ==============================\n",
    "\n",
    "# Compare consecutive images (pre-war & war-start)def pairwise_temporal_analysis(section_images_dict, war_start):\n",
    "    results = []\n",
    "    for section, image_list in section_images_dict.items():\n",
    "        sorted_images = sorted(image_list, key=lambda x: x[0])\n",
    "        for i in range(len(sorted_images) - 1):\n",
    "            date1, path1 = sorted_images[i]\n",
    "            date2, path2 = sorted_images[i+1]\n",
    "            try:\n",
    "                img1 = Image.open(path1).convert('L')\n",
    "                img2 = Image.open(path2).convert('L')\n",
    "                if img1.size != img2.size:\n",
    "                    img2 = img2.resize(img1.size)\n",
    "                diff = np.abs(np.array(img2) - np.array(img1))\n",
    "                score = diff.mean()\n",
    "\n",
    "                if date1 < war_start and date2 < war_start:\n",
    "                    phase = 'pre-war'\n",
    "                elif date1 < war_start <= date2:\n",
    "                    phase = 'war-start'\n",
    "                else:\n",
    "                    continue  # skip post-war for this logic\n",
    "\n",
    "                results.append({\n",
    "                    'section': section,\n",
    "                    'date_1': date1.date(),\n",
    "                    'date_2': date2.date(),\n",
    "                    'change_score': score,\n",
    "                    'phase': phase\n",
    "                })\n",
    "            except:\n",
    "                continue\n",
    "    return pd.DataFrame(results)\n",
    "\n",
    "\n",
    "# Compare every post-war image to last pre-war imagedef postwar_vs_last_pre_analysis(section_images_dict, war_start):\n",
    "    results = []\n",
    "    for section, image_list in section_images_dict.items():\n",
    "        pre = [(d, p) for d, p in image_list if d < war_start]\n",
    "        post = [(d, p) for d, p in image_list if d > war_start]\n",
    "        if not pre or not post:\n",
    "            continue\n",
    "        pre_date, pre_path = sorted(pre, key=lambda x: x[0])[-1]\n",
    "        pre_img = Image.open(pre_path).convert('L')\n",
    "        pre_np = np.array(pre_img)\n",
    "\n",
    "        for post_date, post_path in sorted(post, key=lambda x: x[0]):\n",
    "            try:\n",
    "                post_img = Image.open(post_path).convert('L')\n",
    "                if post_img.size != pre_img.size:\n",
    "                    post_img = post_img.resize(pre_img.size)\n",
    "                diff = np.abs(np.array(post_img) - pre_np)\n",
    "                score = diff.mean()\n",
    "                results.append({\n",
    "                    'section': section,\n",
    "                    'date_1': pre_date.date(),\n",
    "                    'date_2': post_date.date(),\n",
    "                    'change_score': score,\n",
    "                    'phase': 'post-war'\n",
    "                })\n",
    "            except:\n",
    "                continue\n",
    "    return pd.DataFrame(results)"
   ]
  },
  {
   "cell_type": "code",
   "execution_count": 11,
   "metadata": {
    "execution": {
     "iopub.execute_input": "2025-05-12T10:15:12.905574Z",
     "iopub.status.busy": "2025-05-12T10:15:12.904377Z",
     "iopub.status.idle": "2025-05-12T10:21:46.095518Z",
     "shell.execute_reply": "2025-05-12T10:21:46.094387Z",
     "shell.execute_reply.started": "2025-05-12T10:15:12.905527Z"
    },
    "trusted": true
   },
   "outputs": [],
   "source": [
    "# ==============================\n",
    "# 5. Run the Analyses\n",
    "# ==============================\n",
    "temporal_df = pairwise_temporal_analysis(section_images_dict, war_start)\n",
    "postwar_df = postwar_vs_last_pre_analysis(section_images_dict, war_start)\n",
    "# Combine both into a final DataFrame\n",
    "final_df = pd.concat([temporal_df, postwar_df], ignore_index=True)\n"
   ]
  },
  {
   "cell_type": "code",
   "execution_count": 12,
   "metadata": {
    "execution": {
     "iopub.execute_input": "2025-05-12T10:22:04.427624Z",
     "iopub.status.busy": "2025-05-12T10:22:04.427241Z",
     "iopub.status.idle": "2025-05-12T10:22:04.836222Z",
     "shell.execute_reply": "2025-05-12T10:22:04.835078Z",
     "shell.execute_reply.started": "2025-05-12T10:22:04.427595Z"
    },
    "trusted": true
   },
   "outputs": [
    {
     "data": {
      "image/png": "[encoded data removed]",
      "text/plain": [
       "<Figure size 1200x600 with 1 Axes>"
      ]
     },
     "metadata": {},
     "output_type": "display_data"
    }
   ],
   "source": [
    "plt.figure(figsize=(12, 6))\n",
    "sns.boxplot(x='phase', y='change_score', data=final_df, palette='Set2')\n",
    "plt.title(\"Visual Change Score by War Phase\", fontsize=14)\n",
    "plt.xlabel(\"War Phase\", fontsize=12)\n",
    "plt.ylabel(\"Average Visual Change Score\", fontsize=12)\n",
    "plt.grid(axis='y', linestyle='--', alpha=0.4)\n",
    "plt.tight_layout()\n",
    "plt.show()\n"
   ]
  },
  {
   "cell_type": "code",
   "execution_count": 13,
   "metadata": {
    "execution": {
     "iopub.execute_input": "2025-05-12T10:22:35.206163Z",
     "iopub.status.busy": "2025-05-12T10:22:35.205803Z",
     "iopub.status.idle": "2025-05-12T10:22:35.220168Z",
     "shell.execute_reply": "2025-05-12T10:22:35.218819Z",
     "shell.execute_reply.started": "2025-05-12T10:22:35.206140Z"
    },
    "trusted": true
   },
   "outputs": [
    {
     "name": "stdout",
     "output_type": "stream",
     "text": [
      "dict_keys(['timestamp', 'section_id', 'local_path', 'source', 'collection', 'bbox', 'date_range'])\n",
      "{\n",
      "  \"timestamp\": \"2023-01-01\",\n",
      "  \"section_id\": \"section_23\",\n",
      "  \"local_path\": \"D:\\\\collage\\\\Gaza Before and After\\\\satellite-imagery-app\\\\../data\\\\images\\\\section_23\\\\2023-01-01.png\",\n",
      "  \"source\": \"Sentinel Hub\",\n",
      "  \"collection\": \"sentinel-2-l2a\",\n",
      "  \"bbox\": [\n",
      "    34.2195,\n",
      "    31.3792514,\n",
      "    34.389208499999995,\n",
      "    31.415103000000002\n",
      "  ],\n",
      "  \"date_range\": \"2022-12-29 to 2023-01-04\"\n",
      "}\n"
     ]
    }
   ],
   "source": [
    "meta_path = '/kaggle/input/gaza-before-and-after-2/Gaza Before and After/metadata/section_23_2023-01-01.json'\n",
    "\n",
    "with open(meta_path, 'r') as f:\n",
    "    metadata = json.load(f)\n",
    "\n",
    "# Print keys and preview\n",
    "print(metadata.keys())\n",
    "print(json.dumps(metadata, indent=2)[:1000])"
   ]
  },
  {
   "cell_type": "code",
   "execution_count": 14,
   "metadata": {
    "execution": {
     "iopub.execute_input": "2025-05-12T10:22:47.227685Z",
     "iopub.status.busy": "2025-05-12T10:22:47.227347Z",
     "iopub.status.idle": "2025-05-12T10:23:06.932696Z",
     "shell.execute_reply": "2025-05-12T10:23:06.931521Z",
     "shell.execute_reply.started": "2025-05-12T10:22:47.227664Z"
    },
    "trusted": true
   },
   "outputs": [],
   "source": [
    "# ==============================\n",
    "# 7. Load Coordinates Metadata\n",
    "# ==============================\n",
    "meta_path = \"/kaggle/input/gaza-before-and-after-2/Gaza Before and After/metadata\"\n",
    "\n",
    "# Dictionary to collect latest bbox for each section\n",
    "section_coords = {}\n",
    "\n",
    "for filename in os.listdir(meta_path):\n",
    "    if filename.endswith('.json'):\n",
    "        try:\n",
    "            with open(os.path.join(meta_path, filename), 'r') as f:\n",
    "                data = json.load(f)\n",
    "                if 'bbox' in data:\n",
    "                    section = data['section_id']\n",
    "                    bbox = data['bbox']\n",
    "                    if section not in section_coords:\n",
    "                        section_coords[section] = {\n",
    "                            'section': section,\n",
    "                            'min_lon': bbox[0],\n",
    "                            'min_lat': bbox[1],\n",
    "                            'max_lon': bbox[2],\n",
    "                            'max_lat': bbox[3]\n",
    "                        }\n",
    "        except:\n",
    "            continue"
   ]
  },
  {
   "cell_type": "code",
   "execution_count": null,
   "metadata": {
    "trusted": true
   },
   "outputs": [],
   "source": [
    "# ==============================\n",
    "# 8. War Damage Visualization Map\n",
    "# ==============================\n",
    "# Filter for only relevant war periods\n",
    "war_damage_df = final_df[final_df['phase'].isin(['war-start', 'post-war'])]\n",
    "\n",
    "# Group by section, get the maximum damage score observed during/after war\n",
    "max_damage_df = war_damage_df.groupby('section')['change_score'].max().reset_index()\n",
    "max_damage_df.rename(columns={'change_score': 'max_damage_score'}, inplace=True)\n",
    "\n",
    "# Merge with coordinates\n",
    "map_df = max_damage_df.merge(coords_df, on='section', how='left').dropna()\n",
    "\n",
    "# Create folium map\n",
    "center_lat = map_df['min_lat'].mean()\n",
    "center_lon = map_df['min_lon'].mean()\n",
    "m = folium.Map(location=[center_lat, center_lon], zoom_start=11, tiles='OpenStreetMap')\n",
    "\n",
    "# Color scale based on damage\n",
    "colormap = linear.YlOrRd_09.scale(map_df['max_damage_score'].min(), map_df['max_damage_score'].max())\n",
    "\n",
    "# Draw rectangles per section\n",
    "for _, row in map_df.iterrows():\n",
    "    bounds = [(row['min_lat'], row['min_lon']), (row['max_lat'], row['max_lon'])]\n",
    "    Rectangle(\n",
    "        bounds=bounds,\n",
    "        color=None,\n",
    "        fill=True,\n",
    "        fill_color=colormap(row['max_damage_score']),\n",
    "        fill_opacity=0.7,\n",
    "        tooltip=f\"{row['section']} | Max War Damage: {row['max_damage_score']:.1f}\"\n",
    "    ).add_to(m)\n",
    "    \n",
    "# List of major cities with lat/lon\n",
    "city_labels = [\n",
    "    {\"name\": \"Gaza\", \"lat\": 31.5, \"lon\": 34.47},\n",
    "    {\"name\": \"Rafah\", \"lat\": 31.29, \"lon\": 34.25},\n",
    "    {\"name\": \"Khan Yunis\", \"lat\": 31.34, \"lon\": 34.30},\n",
    "    {\"name\": \"Jabalia\", \"lat\": 31.54, \"lon\": 34.50},\n",
    "    {\"name\": \"Beit Hanoun\", \"lat\": 31.55, \"lon\": 34.55},\n",
    "]\n",
    "\n",
    "# Add city name labels\n",
    "for city in city_labels:\n",
    "    folium.Marker(\n",
    "        location=[city['lat'], city['lon']],\n",
    "        icon=folium.DivIcon(html=f\"\"\"<div style=\"font-size:12px; color:black;\"><b>{city['name']}</b></div>\"\"\")\n",
    "    ).add_to(m)\n",
    "\n",
    "# Add color legend\n",
    "colormap.caption = \"Max War-Time Visual Damage per Section\"\n",
    "colormap.add_to(m)\n",
    "\n",
    "m"
   ]
  }
 ],
 "metadata": {
  "kaggle": {
   "accelerator": "none",
   "dataSources": [
    {
     "datasetId": 6867508,
     "sourceId": 11027660,
     "sourceType": "datasetVersion"
    }
   ],
   "dockerImageVersionId": 31012,
   "isGpuEnabled": false,
   "isInternetEnabled": true,
   "language": "python",
   "sourceType": "notebook"
  },
  "kernelspec": {
   "display_name": "Python 3",
   "language": "python",
   "name": "python3"
  },
  "language_info": {
   "codemirror_mode": {
    "name": "ipython",
    "version": 3
   },
   "file_extension": ".py",
   "mimetype": "text/x-python",
   "name": "python",
   "nbconvert_exporter": "python",
   "pygments_lexer": "ipython3",
   "version": "3.11.11"
  }
 },
 "nbformat": 4,
 "nbformat_minor": 4
}
